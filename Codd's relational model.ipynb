{
 "cells": [
  {
   "cell_type": "code",
   "execution_count": 1,
   "metadata": {},
   "outputs": [],
   "source": [
    "import re\n",
    "from copy import deepcopy\n",
    "\n",
    "class OperationNotSupported(Exception):\n",
    "    # for raising the custom error\n",
    "    def __init__(self, value):\n",
    "        super(OperationNotSupported, self).__init__(value)\n",
    "        \n",
    "class Relation:\n",
    "    '''\n",
    "    Relation in Codd's relational model.\n",
    "    \n",
    "    Parameters\n",
    "    ----------\n",
    "    schema : [list]\n",
    "        Schema of the relation.\n",
    "    instance : [dictionary]\n",
    "        Instance of the relation.\n",
    "    '''\n",
    "    \n",
    "    def __init__(self, name=None, schema=None, instance=None, dictionary=0):\n",
    "        self.name = name\n",
    "        self.schema = schema\n",
    "        self.instance = instance\n",
    "        \n",
    "        # when new Relation object is created\n",
    "        if dictionary == 0:\n",
    "            self._datalist = self._create_dict()\n",
    "            \n",
    "        # when the return object is empty list and dictionary is 1\n",
    "        elif dictionary == 1:\n",
    "            self._datalist = None\n",
    "            \n",
    "        # when the return object is not empty list\n",
    "        else:\n",
    "            self._datalist = dictionary\n",
    "            \n",
    "    # don't want to allow _datalist property to update outside of class\n",
    "    @property\n",
    "    def datalist(self):\n",
    "        return self._datalist\n",
    "        \n",
    "    def _create_dict(self):\n",
    "        \n",
    "        #this function create list of dictionary records\n",
    "        #eg. [{'A': 3, 'B': 4, 'C': 5},\n",
    "        #    {'A': 13, 'B': 2, 'C': 3},\n",
    "        #    {'A': 5, 'B': 6, 'C': 7}]\n",
    "        records = []\n",
    "        \n",
    "        # check duplicate column name\n",
    "        if len(self.schema) != len(set(self.schema)):\n",
    "            raise OperationNotSupported('Duplicate column names')\n",
    "        \n",
    "        # check column counts and value counts whether they are matching\n",
    "        elif max(len(x) for x in self.instance) != len(set(self.schema)):\n",
    "            raise OperationNotSupported('Column counts and value counts did not match')\n",
    "                \n",
    "        else:\n",
    "            for row in self.instance:\n",
    "                line = {}\n",
    "                for col in range(len(self.schema)):\n",
    "                    line[self.schema[col]] = row[col]\n",
    "                records.append(line)\n",
    "            \n",
    "        return records\n",
    "    \n",
    "    def show_result_table(self,dict_set):\n",
    "        \n",
    "        #find the max length in both key and value of datalist to display the table as of max column width\n",
    "        all_rows = []\n",
    "        for row in dict_set:\n",
    "            all_rows += list(row.keys())\n",
    "            all_rows += list(row.values())\n",
    "            \n",
    "        lens = [len(str(ele)) for ele in all_rows]\n",
    "        if lens:\n",
    "            mm = max(lens)\n",
    "        else:\n",
    "            mm = 0\n",
    "            \n",
    "        if mm != 0:\n",
    "            #show results like a table\n",
    "            result = ''\n",
    "            rows = ''\n",
    "\n",
    "            for row in dict_set:\n",
    "                header = ''\n",
    "                rows += '\\n'\n",
    "                for i in list(row.keys()):\n",
    "                    header += '{value:>{length}}|'.format(value=i,length=mm+1)\n",
    "                    rows += '{value:>{length}}|'.format(value=row[i],length=mm+1)\n",
    "                header += '\\n'\n",
    "                for i in list(row.keys()):\n",
    "                    header += '{value:>{length}}|'.format(value='-'*(mm+1),length=mm)\n",
    "\n",
    "            result += header\n",
    "            result += rows\n",
    "            return result\n",
    "        \n",
    "    def __repr__(self):\n",
    "        try:\n",
    "            if not self._datalist:\n",
    "                # if datalist is None\n",
    "                return '0'\n",
    "            else:\n",
    "                return self.show_result_table(self._datalist)\n",
    "        except:\n",
    "            raise OperationNotSupported('Table cannot be shown')\n",
    "        \n",
    "    def select(self, condition):\n",
    "        '''\n",
    "        Applies the select operation.\n",
    "        \n",
    "        Parameters\n",
    "        ----------\n",
    "        condition : str\n",
    "            Condition for the select operation.\n",
    "        \n",
    "        Returns\n",
    "        -------\n",
    "        Relation\n",
    "            The resulting relation.\n",
    "        \n",
    "        Raises\n",
    "        ------\n",
    "        SyntaxError\n",
    "            If condition has incorrect syntax.\n",
    "        '''\n",
    "        \n",
    "        result = []\n",
    "        \n",
    "        #translate the condition argument into resonable syntax that can be run from python\n",
    "        \n",
    "        condition = re.sub(\" and \", \" ^ \", condition, flags=re.IGNORECASE)\n",
    "        condition = re.sub(\" or \", \" | \", condition, flags=re.IGNORECASE)\n",
    "        condition = re.sub(\" not \", \" ! \", condition, flags=re.IGNORECASE)\n",
    "        condition = condition.replace(\">=\", \">eq\")\n",
    "        condition = condition.replace(\"<=\", \"<eq\")\n",
    "        condition = condition.replace(\"=\",\"==\")\n",
    "\n",
    "        for key in list(self._datalist[0].keys()):\n",
    "            condition = condition.replace(key,f\"row['{key}']\")\n",
    "    \n",
    "        condition = condition.replace(\" ^ \", \" and \")\n",
    "        condition = condition.replace(\" | \", \" or \")\n",
    "        condition = condition.replace(\" ! \", \" not \")\n",
    "        condition = condition.replace(\">eq\",\">=\")\n",
    "        condition = condition.replace(\"<eq\",\"<=\")\n",
    "\n",
    "        try:\n",
    "            for row in self._datalist:\n",
    "                boo = eval(condition)\n",
    "                if boo:\n",
    "                    result.append(row)\n",
    "            if result:        \n",
    "                return Relation(dictionary=result)\n",
    "            else:\n",
    "                return Relation(dictionary=1)\n",
    "            \n",
    "        except: \n",
    "            raise OperationNotSupported(\"Condition is incorrect\")\n",
    "            \n",
    "    def __getitem__(self, attrs):\n",
    "        '''\n",
    "        Applies the project operation.\n",
    "        \n",
    "        Parameters\n",
    "        ----------\n",
    "        attrs: sequence of str\n",
    "            Attributes for the project operation.\n",
    "        \n",
    "        Returns\n",
    "        -------\n",
    "        Relation\n",
    "            The resulting relation.\n",
    "        \n",
    "        Raises\n",
    "        ------\n",
    "        KeyError\n",
    "            If the specified attributes do not exist.\n",
    "        '''\n",
    "       \n",
    "        result = []\n",
    "        \n",
    "        for row in self._datalist:\n",
    "            dd = {}\n",
    "            for key,value in row.items():\n",
    "                if key == attrs:\n",
    "                    dd[key] = value\n",
    "\n",
    "            result.append(dd)\n",
    "       \n",
    "        if result[0]:\n",
    "            return Relation(dictionary=result)\n",
    "        else:\n",
    "            raise OperationNotSupported('No Matching Column Found')\n",
    "        \n",
    "        \n",
    "    def rename(self, mapping):\n",
    "        '''\n",
    "        Applies the rename operation.\n",
    "        \n",
    "        Parameters\n",
    "        ----------\n",
    "        mapping : dict mapping str to str\n",
    "            A mapping from old names to new names.\n",
    "        \n",
    "        Returns\n",
    "        -------\n",
    "        Relation\n",
    "            The resulting relation.\n",
    "        \n",
    "        Raises\n",
    "        ------\n",
    "        KeyError\n",
    "            If the specified attributes do not exist.\n",
    "        '''\n",
    "        \n",
    "        # rename({'Oldname':'Newname'})\n",
    "        \n",
    "        # check the old column name of argument is in our shema\n",
    "        for key in mapping.keys():\n",
    "            if not key in self.schema:\n",
    "                raise OperationNotSupported('No Matching Existing Columns found')\n",
    "                \n",
    "        # check the new column name of argument is equal with the existing column name\n",
    "        for value in mapping.values():\n",
    "            if value in self.schema:\n",
    "                raise OperationNotSupported('Column name already existed')\n",
    "             \n",
    "        for key,value in mapping.items():\n",
    "            result = []\n",
    "            for row in self._datalist:\n",
    "                row[value] = row.pop(key)\n",
    "                result.append(row)\n",
    "                \n",
    "            for i in range(len(self.schema)):\n",
    "                if self.schema[i] == key:\n",
    "                    self.schema[i] = value\n",
    "\n",
    "        return Relation(dictionary=result)            \n",
    "        \n",
    "    def __or__(self, other):\n",
    "        '''\n",
    "        Applies the union operation.\n",
    "        \n",
    "        Parameters\n",
    "        ----------\n",
    "        other : Relation\n",
    "            The second operand for the union operation.\n",
    "        \n",
    "        Returns\n",
    "        -------\n",
    "        Relation\n",
    "            The resulting relation.\n",
    "        \n",
    "        Raises\n",
    "        ------\n",
    "        ValueError\n",
    "            If the schemata do not match.\n",
    "        '''\n",
    "\n",
    "        result = []\n",
    "        \n",
    "        # create master column name list to access both tables\n",
    "        keylist = set([key for row in self._datalist for key in row.keys()])\n",
    "        valuelist = []\n",
    "\n",
    "        if len(self.schema) == len(other.schema):\n",
    "        # check the columns of both tables is match or not\n",
    "            try:\n",
    "                for row in self._datalist:\n",
    "                    dd = {}\n",
    "                    for key in keylist:\n",
    "                        dd[key] = row[key]\n",
    "                    result.append(dd)\n",
    "                    valuelist.append(tuple(dd.values()))\n",
    "\n",
    "                for row in other._datalist:\n",
    "                    dd = {}\n",
    "                    for key in keylist:\n",
    "                        dd[key] = row[key]\n",
    "                    if tuple(dd.values()) not in valuelist:\n",
    "                        result.append(dd)\n",
    "                        \n",
    "                return Relation(dictionary=result)\n",
    "            \n",
    "            except:\n",
    "                raise OperationNotSupported('Cannot union different schema')\n",
    "        \n",
    "        else:\n",
    "            raise OperationNotSupported('Column counts not match')\n",
    "        \n",
    "    def __sub__(self, other):\n",
    "        '''\n",
    "        Applies the difference operation.\n",
    "        \n",
    "        Parameters\n",
    "        ----------\n",
    "        other : Relation\n",
    "            The second operand for the difference operation.\n",
    "        \n",
    "        Returns\n",
    "        -------\n",
    "        Relation\n",
    "            The resulting relation.\n",
    "        \n",
    "        Raises\n",
    "        ------\n",
    "        ValueError\n",
    "            If the schemata do not match.\n",
    "        '''\n",
    "        \n",
    "        result = []\n",
    "        \n",
    "        # create master column name list to access both tables\n",
    "        keylist = set([key for row in self._datalist for key in row.keys()])\n",
    "        valuelist = []\n",
    "        \n",
    "        if len(self.schema) == len(other.schema):\n",
    "        # check the columns of both tables is match or not\n",
    "            try:\n",
    "                for row in other._datalist:\n",
    "                    dd = {}\n",
    "                    for key in keylist:\n",
    "                        dd[key] = row[key]\n",
    "                    valuelist.append(tuple(dd.values()))\n",
    "\n",
    "                for row in self._datalist:\n",
    "                    dd = {}\n",
    "                    for key in keylist:\n",
    "                        dd[key] = row[key]\n",
    "                    if tuple(dd.values()) not in valuelist:\n",
    "                        result.append(dd)\n",
    "\n",
    "                if result:        \n",
    "                    return Relation(dictionary=result)\n",
    "                else:\n",
    "                    return Relation(dictionary=1)\n",
    "                \n",
    "            except:\n",
    "                raise OperationNotSupported('Cannot substract different schema')\n",
    "        else:\n",
    "            raise OperationNotSupported('Column counts not match')\n",
    "        \n",
    "    def __mul__(self, other):\n",
    "        '''\n",
    "        Applies the Cartesian product operation.\n",
    "        \n",
    "        Parameters\n",
    "        ----------\n",
    "        other: Relation\n",
    "            The second operand for the Cartesian product operation.\n",
    "        \n",
    "        Returns\n",
    "        -------\n",
    "        Relation\n",
    "            The resulting relation.\n",
    "        '''\n",
    "        \n",
    "        #clone the original list to prevent changing column name\n",
    "        slf = deepcopy(self._datalist)\n",
    "        othr = deepcopy(other._datalist)\n",
    "        \n",
    "        #rename the same column names of two tables as TableName.ColumnName\n",
    "        akeylist = set([key for row in slf for key in row.keys()])\n",
    "        bkeylist = set([key for row in othr for key in row.keys()])\n",
    "\n",
    "        samekey = akeylist.intersection(bkeylist)\n",
    "\n",
    "        for arow in slf:\n",
    "            for key in arow.keys():\n",
    "                if key in samekey:\n",
    "                    arow[self.name+'.'+key] = arow.pop(key)\n",
    "\n",
    "        for brow in othr:\n",
    "            for key in brow.keys():\n",
    "                if key in samekey:\n",
    "                    brow[other.name+'.'+key] = brow.pop(key)\n",
    "\n",
    "        result = []\n",
    "\n",
    "        # generate Cartesian product\n",
    "        for arow in slf:\n",
    "            dd = {}\n",
    "            for akey,avalue in arow.items():\n",
    "                dd[akey] = avalue\n",
    "            for brow in othr:\n",
    "                for bkey,bvalue in brow.items():\n",
    "                    dd[bkey] = bvalue\n",
    "                result.append(dict(dd))\n",
    "\n",
    "        return Relation(dictionary=result)"
   ]
  },
  {
   "cell_type": "markdown",
   "metadata": {},
   "source": [
    "### Create Relation 'R' and 'S'"
   ]
  },
  {
   "cell_type": "markdown",
   "metadata": {},
   "source": [
    "Notice : Relation object retrun a string displaying the relation as a table when calling as <b>str</b> or <b>repr</b> object. You can also get the data of relation as list of dictionaries when you call <b>datalist</b> properties."
   ]
  },
  {
   "cell_type": "code",
   "execution_count": 3,
   "metadata": {
    "scrolled": true
   },
   "outputs": [],
   "source": [
    "R = Relation('R',['A','B'],{(1,2),(3,4)})\n",
    "S = Relation('S',['C','D'],{(5,6),(3,4)})"
   ]
  },
  {
   "cell_type": "code",
   "execution_count": 4,
   "metadata": {},
   "outputs": [
    {
     "name": "stdout",
     "output_type": "stream",
     "text": [
      " A| B|\n",
      "--|--|\n",
      " 1| 2|\n",
      " 3| 4|\n"
     ]
    },
    {
     "data": {
      "text/plain": [
       "[{'A': 1, 'B': 2}, {'A': 3, 'B': 4}]"
      ]
     },
     "execution_count": 4,
     "metadata": {},
     "output_type": "execute_result"
    }
   ],
   "source": [
    "print(R)\n",
    "R.datalist"
   ]
  },
  {
   "cell_type": "code",
   "execution_count": 5,
   "metadata": {},
   "outputs": [
    {
     "name": "stdout",
     "output_type": "stream",
     "text": [
      " C| D|\n",
      "--|--|\n",
      " 5| 6|\n",
      " 3| 4|\n"
     ]
    },
    {
     "data": {
      "text/plain": [
       "[{'C': 5, 'D': 6}, {'C': 3, 'D': 4}]"
      ]
     },
     "execution_count": 5,
     "metadata": {},
     "output_type": "execute_result"
    }
   ],
   "source": [
    "print(S)\n",
    "S.datalist"
   ]
  },
  {
   "cell_type": "markdown",
   "metadata": {},
   "source": [
    "### 1. Selection ($\\sigma$)"
   ]
  },
  {
   "cell_type": "code",
   "execution_count": 6,
   "metadata": {},
   "outputs": [
    {
     "name": "stdout",
     "output_type": "stream",
     "text": [
      " A| B|\n",
      "--|--|\n",
      " 1| 2|\n"
     ]
    },
    {
     "data": {
      "text/plain": [
       "[{'A': 1, 'B': 2}]"
      ]
     },
     "execution_count": 6,
     "metadata": {},
     "output_type": "execute_result"
    }
   ],
   "source": [
    "print(R.select('B=2'))\n",
    "R.select('B=2').datalist"
   ]
  },
  {
   "cell_type": "code",
   "execution_count": 7,
   "metadata": {},
   "outputs": [
    {
     "name": "stdout",
     "output_type": "stream",
     "text": [
      " A| B|\n",
      "--|--|\n",
      " 3| 4|\n"
     ]
    },
    {
     "data": {
      "text/plain": [
       "[{'A': 3, 'B': 4}]"
      ]
     },
     "execution_count": 7,
     "metadata": {},
     "output_type": "execute_result"
    }
   ],
   "source": [
    "print(R.select('not B=2'))\n",
    "R.select('not B=2').datalist"
   ]
  },
  {
   "cell_type": "code",
   "execution_count": 8,
   "metadata": {},
   "outputs": [
    {
     "name": "stdout",
     "output_type": "stream",
     "text": [
      " A| B|\n",
      "--|--|\n",
      " 3| 4|\n"
     ]
    },
    {
     "data": {
      "text/plain": [
       "[{'A': 3, 'B': 4}]"
      ]
     },
     "execution_count": 8,
     "metadata": {},
     "output_type": "execute_result"
    }
   ],
   "source": [
    "print(R.select('B>3'))\n",
    "R.select('B>3').datalist"
   ]
  },
  {
   "cell_type": "code",
   "execution_count": 9,
   "metadata": {},
   "outputs": [
    {
     "name": "stdout",
     "output_type": "stream",
     "text": [
      " A| B|\n",
      "--|--|\n",
      " 1| 2|\n"
     ]
    },
    {
     "data": {
      "text/plain": [
       "[{'A': 1, 'B': 2}]"
      ]
     },
     "execution_count": 9,
     "metadata": {},
     "output_type": "execute_result"
    }
   ],
   "source": [
    "print(R.select('B<3'))\n",
    "R.select('B<3').datalist"
   ]
  },
  {
   "cell_type": "code",
   "execution_count": 10,
   "metadata": {},
   "outputs": [
    {
     "name": "stdout",
     "output_type": "stream",
     "text": [
      " A| B|\n",
      "--|--|\n",
      " 3| 4|\n"
     ]
    },
    {
     "data": {
      "text/plain": [
       "[{'A': 3, 'B': 4}]"
      ]
     },
     "execution_count": 10,
     "metadata": {},
     "output_type": "execute_result"
    }
   ],
   "source": [
    "print(R.select('A>=3'))\n",
    "R.select('A>=3').datalist"
   ]
  },
  {
   "cell_type": "code",
   "execution_count": 11,
   "metadata": {},
   "outputs": [
    {
     "name": "stdout",
     "output_type": "stream",
     "text": [
      " A| B|\n",
      "--|--|\n",
      " 1| 2|\n",
      " 3| 4|\n"
     ]
    },
    {
     "data": {
      "text/plain": [
       "[{'A': 1, 'B': 2}, {'A': 3, 'B': 4}]"
      ]
     },
     "execution_count": 11,
     "metadata": {},
     "output_type": "execute_result"
    }
   ],
   "source": [
    "print(R.select('A<=3'))\n",
    "R.select('A<=3').datalist"
   ]
  },
  {
   "cell_type": "code",
   "execution_count": 12,
   "metadata": {},
   "outputs": [
    {
     "name": "stdout",
     "output_type": "stream",
     "text": [
      " A| B|\n",
      "--|--|\n",
      " 1| 2|\n"
     ]
    },
    {
     "data": {
      "text/plain": [
       "[{'A': 1, 'B': 2}]"
      ]
     },
     "execution_count": 12,
     "metadata": {},
     "output_type": "execute_result"
    }
   ],
   "source": [
    "print(R.select('A=1 and B=2'))\n",
    "R.select('A=1 and B=2').datalist"
   ]
  },
  {
   "cell_type": "code",
   "execution_count": 13,
   "metadata": {},
   "outputs": [
    {
     "name": "stdout",
     "output_type": "stream",
     "text": [
      " A| B|\n",
      "--|--|\n",
      " 1| 2|\n",
      " 3| 4|\n"
     ]
    },
    {
     "data": {
      "text/plain": [
       "[{'A': 1, 'B': 2}, {'A': 3, 'B': 4}]"
      ]
     },
     "execution_count": 13,
     "metadata": {},
     "output_type": "execute_result"
    }
   ],
   "source": [
    "print(R.select('A=1 or B=4'))\n",
    "R.select('A=1 or B=4').datalist"
   ]
  },
  {
   "cell_type": "markdown",
   "metadata": {},
   "source": [
    "Return str object to <b>0</b> and datalist property to <b>None</b> when no results are found."
   ]
  },
  {
   "cell_type": "code",
   "execution_count": 14,
   "metadata": {
    "scrolled": false
   },
   "outputs": [
    {
     "name": "stdout",
     "output_type": "stream",
     "text": [
      "0\n",
      "None\n"
     ]
    }
   ],
   "source": [
    "print(R.select('B=0'))\n",
    "print(R.select('B=0').datalist)"
   ]
  },
  {
   "cell_type": "markdown",
   "metadata": {},
   "source": [
    "Raise <b>Condition is incorrect</b> error when the parsed condition is not correct."
   ]
  },
  {
   "cell_type": "code",
   "execution_count": 15,
   "metadata": {},
   "outputs": [
    {
     "ename": "OperationNotSupported",
     "evalue": "Condition is incorrect",
     "output_type": "error",
     "traceback": [
      "\u001b[1;31m---------------------------------------------------------------------------\u001b[0m",
      "\u001b[1;31mNameError\u001b[0m                                 Traceback (most recent call last)",
      "\u001b[1;32m<ipython-input-1-dc5c16e2428c>\u001b[0m in \u001b[0;36mselect\u001b[1;34m(self, condition)\u001b[0m\n\u001b[0;32m    124\u001b[0m             \u001b[1;32mfor\u001b[0m \u001b[0mrow\u001b[0m \u001b[1;32min\u001b[0m \u001b[0mself\u001b[0m\u001b[1;33m.\u001b[0m\u001b[0m_datalist\u001b[0m\u001b[1;33m:\u001b[0m\u001b[1;33m\u001b[0m\u001b[1;33m\u001b[0m\u001b[0m\n\u001b[1;32m--> 125\u001b[1;33m                 \u001b[0mboo\u001b[0m \u001b[1;33m=\u001b[0m \u001b[0meval\u001b[0m\u001b[1;33m(\u001b[0m\u001b[0mcondition\u001b[0m\u001b[1;33m)\u001b[0m\u001b[1;33m\u001b[0m\u001b[1;33m\u001b[0m\u001b[0m\n\u001b[0m\u001b[0;32m    126\u001b[0m                 \u001b[1;32mif\u001b[0m \u001b[0mboo\u001b[0m\u001b[1;33m:\u001b[0m\u001b[1;33m\u001b[0m\u001b[1;33m\u001b[0m\u001b[0m\n",
      "\u001b[1;32m<string>\u001b[0m in \u001b[0;36m<module>\u001b[1;34m\u001b[0m\n",
      "\u001b[1;31mNameError\u001b[0m: name 'C' is not defined",
      "\nDuring handling of the above exception, another exception occurred:\n",
      "\u001b[1;31mOperationNotSupported\u001b[0m                     Traceback (most recent call last)",
      "\u001b[1;32m<ipython-input-15-496228bd241f>\u001b[0m in \u001b[0;36m<module>\u001b[1;34m\u001b[0m\n\u001b[1;32m----> 1\u001b[1;33m \u001b[0mR\u001b[0m\u001b[1;33m.\u001b[0m\u001b[0mselect\u001b[0m\u001b[1;33m(\u001b[0m\u001b[1;34m'C=2'\u001b[0m\u001b[1;33m)\u001b[0m\u001b[1;33m\u001b[0m\u001b[1;33m\u001b[0m\u001b[0m\n\u001b[0m\u001b[0;32m      2\u001b[0m \u001b[0mR\u001b[0m\u001b[1;33m.\u001b[0m\u001b[0mselect\u001b[0m\u001b[1;33m(\u001b[0m\u001b[1;34m'B==4'\u001b[0m\u001b[1;33m)\u001b[0m\u001b[1;33m\u001b[0m\u001b[1;33m\u001b[0m\u001b[0m\n",
      "\u001b[1;32m<ipython-input-1-dc5c16e2428c>\u001b[0m in \u001b[0;36mselect\u001b[1;34m(self, condition)\u001b[0m\n\u001b[0;32m    132\u001b[0m \u001b[1;33m\u001b[0m\u001b[0m\n\u001b[0;32m    133\u001b[0m         \u001b[1;32mexcept\u001b[0m\u001b[1;33m:\u001b[0m\u001b[1;33m\u001b[0m\u001b[1;33m\u001b[0m\u001b[0m\n\u001b[1;32m--> 134\u001b[1;33m             \u001b[1;32mraise\u001b[0m \u001b[0mOperationNotSupported\u001b[0m\u001b[1;33m(\u001b[0m\u001b[1;34m\"Condition is incorrect\"\u001b[0m\u001b[1;33m)\u001b[0m\u001b[1;33m\u001b[0m\u001b[1;33m\u001b[0m\u001b[0m\n\u001b[0m\u001b[0;32m    135\u001b[0m \u001b[1;33m\u001b[0m\u001b[0m\n\u001b[0;32m    136\u001b[0m     \u001b[1;32mdef\u001b[0m \u001b[0m__getitem__\u001b[0m\u001b[1;33m(\u001b[0m\u001b[0mself\u001b[0m\u001b[1;33m,\u001b[0m \u001b[0mattrs\u001b[0m\u001b[1;33m)\u001b[0m\u001b[1;33m:\u001b[0m\u001b[1;33m\u001b[0m\u001b[1;33m\u001b[0m\u001b[0m\n",
      "\u001b[1;31mOperationNotSupported\u001b[0m: Condition is incorrect"
     ]
    }
   ],
   "source": [
    "R.select('C=2')\n",
    "R.select('B==4')"
   ]
  },
  {
   "cell_type": "markdown",
   "metadata": {},
   "source": [
    "### 2. Projection ($\\pi$)"
   ]
  },
  {
   "cell_type": "code",
   "execution_count": 16,
   "metadata": {},
   "outputs": [
    {
     "name": "stdout",
     "output_type": "stream",
     "text": [
      "R\n",
      " A| B|\n",
      "--|--|\n",
      " 1| 2|\n",
      " 3| 4|\n"
     ]
    }
   ],
   "source": [
    "print('R')\n",
    "print(R)"
   ]
  },
  {
   "cell_type": "code",
   "execution_count": 17,
   "metadata": {},
   "outputs": [
    {
     "name": "stdout",
     "output_type": "stream",
     "text": [
      " A|\n",
      "--|\n",
      " 1|\n",
      " 3|\n"
     ]
    },
    {
     "data": {
      "text/plain": [
       "[{'A': 1}, {'A': 3}]"
      ]
     },
     "execution_count": 17,
     "metadata": {},
     "output_type": "execute_result"
    }
   ],
   "source": [
    "print(R['A'])\n",
    "R['A'].datalist"
   ]
  },
  {
   "cell_type": "code",
   "execution_count": 18,
   "metadata": {},
   "outputs": [
    {
     "name": "stdout",
     "output_type": "stream",
     "text": [
      " B|\n",
      "--|\n",
      " 2|\n",
      " 4|\n"
     ]
    },
    {
     "data": {
      "text/plain": [
       "[{'B': 2}, {'B': 4}]"
      ]
     },
     "execution_count": 18,
     "metadata": {},
     "output_type": "execute_result"
    }
   ],
   "source": [
    "print(R['B'])\n",
    "R['B'].datalist"
   ]
  },
  {
   "cell_type": "markdown",
   "metadata": {},
   "source": [
    "Raise <b>No Matching Column Found</b> error when the parsed column name is not in the table."
   ]
  },
  {
   "cell_type": "code",
   "execution_count": 19,
   "metadata": {},
   "outputs": [
    {
     "ename": "OperationNotSupported",
     "evalue": "No Matching Column Found",
     "output_type": "error",
     "traceback": [
      "\u001b[1;31m---------------------------------------------------------------------------\u001b[0m",
      "\u001b[1;31mOperationNotSupported\u001b[0m                     Traceback (most recent call last)",
      "\u001b[1;32m<ipython-input-19-5f8515d778f7>\u001b[0m in \u001b[0;36m<module>\u001b[1;34m\u001b[0m\n\u001b[1;32m----> 1\u001b[1;33m \u001b[0mprint\u001b[0m\u001b[1;33m(\u001b[0m\u001b[0mR\u001b[0m\u001b[1;33m[\u001b[0m\u001b[1;34m'C'\u001b[0m\u001b[1;33m]\u001b[0m\u001b[1;33m)\u001b[0m\u001b[1;33m\u001b[0m\u001b[1;33m\u001b[0m\u001b[0m\n\u001b[0m\u001b[0;32m      2\u001b[0m \u001b[0mR\u001b[0m\u001b[1;33m[\u001b[0m\u001b[1;34m'C'\u001b[0m\u001b[1;33m]\u001b[0m\u001b[1;33m.\u001b[0m\u001b[0mdatalist\u001b[0m\u001b[1;33m\u001b[0m\u001b[1;33m\u001b[0m\u001b[0m\n",
      "\u001b[1;32m<ipython-input-1-dc5c16e2428c>\u001b[0m in \u001b[0;36m__getitem__\u001b[1;34m(self, attrs)\u001b[0m\n\u001b[0;32m    149\u001b[0m             \u001b[1;32mreturn\u001b[0m \u001b[0mRelation\u001b[0m\u001b[1;33m(\u001b[0m\u001b[0mdictionary\u001b[0m\u001b[1;33m=\u001b[0m\u001b[0mresult\u001b[0m\u001b[1;33m)\u001b[0m\u001b[1;33m\u001b[0m\u001b[1;33m\u001b[0m\u001b[0m\n\u001b[0;32m    150\u001b[0m         \u001b[1;32melse\u001b[0m\u001b[1;33m:\u001b[0m\u001b[1;33m\u001b[0m\u001b[1;33m\u001b[0m\u001b[0m\n\u001b[1;32m--> 151\u001b[1;33m             \u001b[1;32mraise\u001b[0m \u001b[0mOperationNotSupported\u001b[0m\u001b[1;33m(\u001b[0m\u001b[1;34m'No Matching Column Found'\u001b[0m\u001b[1;33m)\u001b[0m\u001b[1;33m\u001b[0m\u001b[1;33m\u001b[0m\u001b[0m\n\u001b[0m\u001b[0;32m    152\u001b[0m \u001b[1;33m\u001b[0m\u001b[0m\n\u001b[0;32m    153\u001b[0m \u001b[1;33m\u001b[0m\u001b[0m\n",
      "\u001b[1;31mOperationNotSupported\u001b[0m: No Matching Column Found"
     ]
    }
   ],
   "source": [
    "print(R['C'])\n",
    "R['C'].datalist"
   ]
  },
  {
   "cell_type": "markdown",
   "metadata": {},
   "source": [
    "### 3. Rename ($\\rho$)"
   ]
  },
  {
   "cell_type": "code",
   "execution_count": 20,
   "metadata": {},
   "outputs": [
    {
     "name": "stdout",
     "output_type": "stream",
     "text": [
      "R\n",
      " A| B|\n",
      "--|--|\n",
      " 1| 2|\n",
      " 3| 4|\n"
     ]
    }
   ],
   "source": [
    "R = Relation('R',['A','B'],{(1,2),(3,4)})\n",
    "print('R')\n",
    "print(R)"
   ]
  },
  {
   "cell_type": "code",
   "execution_count": 21,
   "metadata": {},
   "outputs": [
    {
     "name": "stdout",
     "output_type": "stream",
     "text": [
      "R\n",
      " AA| BB|\n",
      "---|---|\n",
      "  1|  2|\n",
      "  3|  4|\n"
     ]
    },
    {
     "data": {
      "text/plain": [
       "[{'AA': 1, 'BB': 2}, {'AA': 3, 'BB': 4}]"
      ]
     },
     "execution_count": 21,
     "metadata": {},
     "output_type": "execute_result"
    }
   ],
   "source": [
    "R.rename({'A':'AA','B':'BB'})\n",
    "\n",
    "print('R')\n",
    "print(R)\n",
    "R.datalist"
   ]
  },
  {
   "cell_type": "markdown",
   "metadata": {},
   "source": [
    "Raise <b>No Matching Existing Columns found</b> error when the parsed old column name is not in the table."
   ]
  },
  {
   "cell_type": "code",
   "execution_count": 22,
   "metadata": {},
   "outputs": [
    {
     "ename": "OperationNotSupported",
     "evalue": "No Matching Existing Columns found",
     "output_type": "error",
     "traceback": [
      "\u001b[1;31m---------------------------------------------------------------------------\u001b[0m",
      "\u001b[1;31mOperationNotSupported\u001b[0m                     Traceback (most recent call last)",
      "\u001b[1;32m<ipython-input-22-1308eb89e47f>\u001b[0m in \u001b[0;36m<module>\u001b[1;34m\u001b[0m\n\u001b[1;32m----> 1\u001b[1;33m \u001b[0mR\u001b[0m\u001b[1;33m.\u001b[0m\u001b[0mrename\u001b[0m\u001b[1;33m(\u001b[0m\u001b[1;33m{\u001b[0m\u001b[1;34m'C'\u001b[0m\u001b[1;33m:\u001b[0m\u001b[1;34m'AA'\u001b[0m\u001b[1;33m,\u001b[0m\u001b[1;34m'D'\u001b[0m\u001b[1;33m:\u001b[0m\u001b[1;34m'BB'\u001b[0m\u001b[1;33m}\u001b[0m\u001b[1;33m)\u001b[0m\u001b[1;33m\u001b[0m\u001b[1;33m\u001b[0m\u001b[0m\n\u001b[0m",
      "\u001b[1;32m<ipython-input-1-dc5c16e2428c>\u001b[0m in \u001b[0;36mrename\u001b[1;34m(self, mapping)\u001b[0m\n\u001b[0;32m    159\u001b[0m         \u001b[1;32mfor\u001b[0m \u001b[0mkey\u001b[0m \u001b[1;32min\u001b[0m \u001b[0mmapping\u001b[0m\u001b[1;33m.\u001b[0m\u001b[0mkeys\u001b[0m\u001b[1;33m(\u001b[0m\u001b[1;33m)\u001b[0m\u001b[1;33m:\u001b[0m\u001b[1;33m\u001b[0m\u001b[1;33m\u001b[0m\u001b[0m\n\u001b[0;32m    160\u001b[0m             \u001b[1;32mif\u001b[0m \u001b[1;32mnot\u001b[0m \u001b[0mkey\u001b[0m \u001b[1;32min\u001b[0m \u001b[0mself\u001b[0m\u001b[1;33m.\u001b[0m\u001b[0mschema\u001b[0m\u001b[1;33m:\u001b[0m\u001b[1;33m\u001b[0m\u001b[1;33m\u001b[0m\u001b[0m\n\u001b[1;32m--> 161\u001b[1;33m                 \u001b[1;32mraise\u001b[0m \u001b[0mOperationNotSupported\u001b[0m\u001b[1;33m(\u001b[0m\u001b[1;34m'No Matching Existing Columns found'\u001b[0m\u001b[1;33m)\u001b[0m\u001b[1;33m\u001b[0m\u001b[1;33m\u001b[0m\u001b[0m\n\u001b[0m\u001b[0;32m    162\u001b[0m \u001b[1;33m\u001b[0m\u001b[0m\n\u001b[0;32m    163\u001b[0m         \u001b[1;31m# check the new column name of argument is equal with the existing column name\u001b[0m\u001b[1;33m\u001b[0m\u001b[1;33m\u001b[0m\u001b[1;33m\u001b[0m\u001b[0m\n",
      "\u001b[1;31mOperationNotSupported\u001b[0m: No Matching Existing Columns found"
     ]
    }
   ],
   "source": [
    "R.rename({'C':'AA','D':'BB'})"
   ]
  },
  {
   "cell_type": "markdown",
   "metadata": {},
   "source": [
    "Raise <b>Column name already existed</b> error when the parsed new column name is already existed in the table."
   ]
  },
  {
   "cell_type": "code",
   "execution_count": 23,
   "metadata": {},
   "outputs": [
    {
     "ename": "OperationNotSupported",
     "evalue": "Column name already existed",
     "output_type": "error",
     "traceback": [
      "\u001b[1;31m---------------------------------------------------------------------------\u001b[0m",
      "\u001b[1;31mOperationNotSupported\u001b[0m                     Traceback (most recent call last)",
      "\u001b[1;32m<ipython-input-23-637af0fde2e7>\u001b[0m in \u001b[0;36m<module>\u001b[1;34m\u001b[0m\n\u001b[1;32m----> 1\u001b[1;33m \u001b[0mR\u001b[0m\u001b[1;33m.\u001b[0m\u001b[0mrename\u001b[0m\u001b[1;33m(\u001b[0m\u001b[1;33m{\u001b[0m\u001b[1;34m'BB'\u001b[0m\u001b[1;33m:\u001b[0m\u001b[1;34m'AA'\u001b[0m\u001b[1;33m}\u001b[0m\u001b[1;33m)\u001b[0m\u001b[1;33m\u001b[0m\u001b[1;33m\u001b[0m\u001b[0m\n\u001b[0m",
      "\u001b[1;32m<ipython-input-1-dc5c16e2428c>\u001b[0m in \u001b[0;36mrename\u001b[1;34m(self, mapping)\u001b[0m\n\u001b[0;32m    164\u001b[0m         \u001b[1;32mfor\u001b[0m \u001b[0mvalue\u001b[0m \u001b[1;32min\u001b[0m \u001b[0mmapping\u001b[0m\u001b[1;33m.\u001b[0m\u001b[0mvalues\u001b[0m\u001b[1;33m(\u001b[0m\u001b[1;33m)\u001b[0m\u001b[1;33m:\u001b[0m\u001b[1;33m\u001b[0m\u001b[1;33m\u001b[0m\u001b[0m\n\u001b[0;32m    165\u001b[0m             \u001b[1;32mif\u001b[0m \u001b[0mvalue\u001b[0m \u001b[1;32min\u001b[0m \u001b[0mself\u001b[0m\u001b[1;33m.\u001b[0m\u001b[0mschema\u001b[0m\u001b[1;33m:\u001b[0m\u001b[1;33m\u001b[0m\u001b[1;33m\u001b[0m\u001b[0m\n\u001b[1;32m--> 166\u001b[1;33m                 \u001b[1;32mraise\u001b[0m \u001b[0mOperationNotSupported\u001b[0m\u001b[1;33m(\u001b[0m\u001b[1;34m'Column name already existed'\u001b[0m\u001b[1;33m)\u001b[0m\u001b[1;33m\u001b[0m\u001b[1;33m\u001b[0m\u001b[0m\n\u001b[0m\u001b[0;32m    167\u001b[0m \u001b[1;33m\u001b[0m\u001b[0m\n\u001b[0;32m    168\u001b[0m         \u001b[1;32mfor\u001b[0m \u001b[0mkey\u001b[0m\u001b[1;33m,\u001b[0m\u001b[0mvalue\u001b[0m \u001b[1;32min\u001b[0m \u001b[0mmapping\u001b[0m\u001b[1;33m.\u001b[0m\u001b[0mitems\u001b[0m\u001b[1;33m(\u001b[0m\u001b[1;33m)\u001b[0m\u001b[1;33m:\u001b[0m\u001b[1;33m\u001b[0m\u001b[1;33m\u001b[0m\u001b[0m\n",
      "\u001b[1;31mOperationNotSupported\u001b[0m: Column name already existed"
     ]
    }
   ],
   "source": [
    "R.rename({'BB':'AA'})"
   ]
  },
  {
   "cell_type": "markdown",
   "metadata": {},
   "source": [
    "### 4. Union ($\\cup$)"
   ]
  },
  {
   "cell_type": "code",
   "execution_count": 24,
   "metadata": {},
   "outputs": [
    {
     "name": "stdout",
     "output_type": "stream",
     "text": [
      "R\n",
      " A| B|\n",
      "--|--|\n",
      " 1| 2|\n",
      " 3| 4|\n",
      "\n",
      "S\n",
      " C| D|\n",
      "--|--|\n",
      " 5| 6|\n",
      " 3| 4|\n"
     ]
    }
   ],
   "source": [
    "R = Relation('R',['A','B'],{(1,2),(3,4)})\n",
    "S = Relation('S',['C','D'],{(5,6),(3,4)})\n",
    "print('R')\n",
    "print(R)\n",
    "print('\\nS')\n",
    "print(S)"
   ]
  },
  {
   "cell_type": "markdown",
   "metadata": {},
   "source": [
    "Raise <b>Cannot union different schema</b> error when the two tables have different column names."
   ]
  },
  {
   "cell_type": "code",
   "execution_count": 25,
   "metadata": {},
   "outputs": [
    {
     "ename": "OperationNotSupported",
     "evalue": "Cannot union different schema",
     "output_type": "error",
     "traceback": [
      "\u001b[1;31m---------------------------------------------------------------------------\u001b[0m",
      "\u001b[1;31mKeyError\u001b[0m                                  Traceback (most recent call last)",
      "\u001b[1;32m<ipython-input-1-dc5c16e2428c>\u001b[0m in \u001b[0;36m__or__\u001b[1;34m(self, other)\u001b[0m\n\u001b[0;32m    200\u001b[0m                     \u001b[1;32mfor\u001b[0m \u001b[0mkey\u001b[0m \u001b[1;32min\u001b[0m \u001b[0mkeylist\u001b[0m\u001b[1;33m:\u001b[0m\u001b[1;33m\u001b[0m\u001b[1;33m\u001b[0m\u001b[0m\n\u001b[1;32m--> 201\u001b[1;33m                         \u001b[0mdd\u001b[0m\u001b[1;33m[\u001b[0m\u001b[0mkey\u001b[0m\u001b[1;33m]\u001b[0m \u001b[1;33m=\u001b[0m \u001b[0mrow\u001b[0m\u001b[1;33m[\u001b[0m\u001b[0mkey\u001b[0m\u001b[1;33m]\u001b[0m\u001b[1;33m\u001b[0m\u001b[1;33m\u001b[0m\u001b[0m\n\u001b[0m\u001b[0;32m    202\u001b[0m                     \u001b[1;32mif\u001b[0m \u001b[0mtuple\u001b[0m\u001b[1;33m(\u001b[0m\u001b[0mdd\u001b[0m\u001b[1;33m.\u001b[0m\u001b[0mvalues\u001b[0m\u001b[1;33m(\u001b[0m\u001b[1;33m)\u001b[0m\u001b[1;33m)\u001b[0m \u001b[1;32mnot\u001b[0m \u001b[1;32min\u001b[0m \u001b[0mvaluelist\u001b[0m\u001b[1;33m:\u001b[0m\u001b[1;33m\u001b[0m\u001b[1;33m\u001b[0m\u001b[0m\n",
      "\u001b[1;31mKeyError\u001b[0m: 'A'",
      "\nDuring handling of the above exception, another exception occurred:\n",
      "\u001b[1;31mOperationNotSupported\u001b[0m                     Traceback (most recent call last)",
      "\u001b[1;32m<ipython-input-25-bf4dbd1916ad>\u001b[0m in \u001b[0;36m<module>\u001b[1;34m\u001b[0m\n\u001b[1;32m----> 1\u001b[1;33m \u001b[1;33m(\u001b[0m\u001b[0mR\u001b[0m \u001b[1;33m|\u001b[0m \u001b[0mS\u001b[0m\u001b[1;33m)\u001b[0m\u001b[1;33m\u001b[0m\u001b[1;33m\u001b[0m\u001b[0m\n\u001b[0m",
      "\u001b[1;32m<ipython-input-1-dc5c16e2428c>\u001b[0m in \u001b[0;36m__or__\u001b[1;34m(self, other)\u001b[0m\n\u001b[0;32m    206\u001b[0m \u001b[1;33m\u001b[0m\u001b[0m\n\u001b[0;32m    207\u001b[0m             \u001b[1;32mexcept\u001b[0m\u001b[1;33m:\u001b[0m\u001b[1;33m\u001b[0m\u001b[1;33m\u001b[0m\u001b[0m\n\u001b[1;32m--> 208\u001b[1;33m                 \u001b[1;32mraise\u001b[0m \u001b[0mOperationNotSupported\u001b[0m\u001b[1;33m(\u001b[0m\u001b[1;34m'Cannot union different schema'\u001b[0m\u001b[1;33m)\u001b[0m\u001b[1;33m\u001b[0m\u001b[1;33m\u001b[0m\u001b[0m\n\u001b[0m\u001b[0;32m    209\u001b[0m \u001b[1;33m\u001b[0m\u001b[0m\n\u001b[0;32m    210\u001b[0m         \u001b[1;32melse\u001b[0m\u001b[1;33m:\u001b[0m\u001b[1;33m\u001b[0m\u001b[1;33m\u001b[0m\u001b[0m\n",
      "\u001b[1;31mOperationNotSupported\u001b[0m: Cannot union different schema"
     ]
    }
   ],
   "source": [
    "(R | S)"
   ]
  },
  {
   "cell_type": "markdown",
   "metadata": {},
   "source": [
    "Change the column name of relation <b>S</b> into <b>A</b> and <b>B</b> to be matched with relation <b>R</b>."
   ]
  },
  {
   "cell_type": "code",
   "execution_count": 26,
   "metadata": {},
   "outputs": [
    {
     "name": "stdout",
     "output_type": "stream",
     "text": [
      "S\n",
      " A| B|\n",
      "--|--|\n",
      " 5| 6|\n",
      " 3| 4|\n"
     ]
    }
   ],
   "source": [
    "S.rename({'C':'A','D':'B'})\n",
    "print('S')\n",
    "print(S)"
   ]
  },
  {
   "cell_type": "code",
   "execution_count": 27,
   "metadata": {},
   "outputs": [
    {
     "name": "stdout",
     "output_type": "stream",
     "text": [
      " A| B|\n",
      "--|--|\n",
      " 1| 2|\n",
      " 3| 4|\n",
      " 5| 6|\n"
     ]
    },
    {
     "data": {
      "text/plain": [
       "[{'A': 1, 'B': 2}, {'A': 3, 'B': 4}, {'A': 5, 'B': 6}]"
      ]
     },
     "execution_count": 27,
     "metadata": {},
     "output_type": "execute_result"
    }
   ],
   "source": [
    "print(R | S)\n",
    "(R | S).datalist"
   ]
  },
  {
   "cell_type": "markdown",
   "metadata": {},
   "source": [
    "Add new column to relation <b>R</b>. Now relation <b>R</b> have <b>3 columns</b> and relation <b>S</b> have only <b>2 columns</b>."
   ]
  },
  {
   "cell_type": "code",
   "execution_count": 28,
   "metadata": {},
   "outputs": [
    {
     "name": "stdout",
     "output_type": "stream",
     "text": [
      "R\n",
      " A| B| C|\n",
      "--|--|--|\n",
      " 3| 4| 5|\n",
      " 1| 2| 3|\n"
     ]
    }
   ],
   "source": [
    "R = Relation('R',['A','B','C'],{(1,2,3),(3,4,5)})\n",
    "print('R')\n",
    "print(R)"
   ]
  },
  {
   "cell_type": "markdown",
   "metadata": {},
   "source": [
    "Raise <b>Column counts not match</b> error when the column counts of two tables do not match."
   ]
  },
  {
   "cell_type": "code",
   "execution_count": 29,
   "metadata": {},
   "outputs": [
    {
     "ename": "OperationNotSupported",
     "evalue": "Column counts not match",
     "output_type": "error",
     "traceback": [
      "\u001b[1;31m---------------------------------------------------------------------------\u001b[0m",
      "\u001b[1;31mOperationNotSupported\u001b[0m                     Traceback (most recent call last)",
      "\u001b[1;32m<ipython-input-29-20ebef1400e4>\u001b[0m in \u001b[0;36m<module>\u001b[1;34m\u001b[0m\n\u001b[1;32m----> 1\u001b[1;33m \u001b[0mR\u001b[0m \u001b[1;33m|\u001b[0m \u001b[0mS\u001b[0m\u001b[1;33m\u001b[0m\u001b[1;33m\u001b[0m\u001b[0m\n\u001b[0m",
      "\u001b[1;32m<ipython-input-1-dc5c16e2428c>\u001b[0m in \u001b[0;36m__or__\u001b[1;34m(self, other)\u001b[0m\n\u001b[0;32m    209\u001b[0m \u001b[1;33m\u001b[0m\u001b[0m\n\u001b[0;32m    210\u001b[0m         \u001b[1;32melse\u001b[0m\u001b[1;33m:\u001b[0m\u001b[1;33m\u001b[0m\u001b[1;33m\u001b[0m\u001b[0m\n\u001b[1;32m--> 211\u001b[1;33m             \u001b[1;32mraise\u001b[0m \u001b[0mOperationNotSupported\u001b[0m\u001b[1;33m(\u001b[0m\u001b[1;34m'Column counts not match'\u001b[0m\u001b[1;33m)\u001b[0m\u001b[1;33m\u001b[0m\u001b[1;33m\u001b[0m\u001b[0m\n\u001b[0m\u001b[0;32m    212\u001b[0m \u001b[1;33m\u001b[0m\u001b[0m\n\u001b[0;32m    213\u001b[0m     \u001b[1;32mdef\u001b[0m \u001b[0m__sub__\u001b[0m\u001b[1;33m(\u001b[0m\u001b[0mself\u001b[0m\u001b[1;33m,\u001b[0m \u001b[0mother\u001b[0m\u001b[1;33m)\u001b[0m\u001b[1;33m:\u001b[0m\u001b[1;33m\u001b[0m\u001b[1;33m\u001b[0m\u001b[0m\n",
      "\u001b[1;31mOperationNotSupported\u001b[0m: Column counts not match"
     ]
    }
   ],
   "source": [
    "R | S"
   ]
  },
  {
   "cell_type": "markdown",
   "metadata": {},
   "source": [
    "## Diffference"
   ]
  },
  {
   "cell_type": "code",
   "execution_count": 30,
   "metadata": {},
   "outputs": [
    {
     "name": "stdout",
     "output_type": "stream",
     "text": [
      "R\n",
      " A| B|\n",
      "--|--|\n",
      " 1| 2|\n",
      " 3| 4|\n",
      "\n",
      "S\n",
      " C| D|\n",
      "--|--|\n",
      " 5| 6|\n",
      " 3| 4|\n"
     ]
    }
   ],
   "source": [
    "R = Relation('R',['A','B'],{(1,2),(3,4)})\n",
    "S = Relation('S',['C','D'],{(5,6),(3,4)})\n",
    "print('R')\n",
    "print(R)\n",
    "print('\\nS')\n",
    "print(S)"
   ]
  },
  {
   "cell_type": "markdown",
   "metadata": {},
   "source": [
    "Raise <b>Cannot subtract different schema</b> error when the two tables have different column names."
   ]
  },
  {
   "cell_type": "code",
   "execution_count": 31,
   "metadata": {},
   "outputs": [
    {
     "ename": "OperationNotSupported",
     "evalue": "Cannot substract different schema",
     "output_type": "error",
     "traceback": [
      "\u001b[1;31m---------------------------------------------------------------------------\u001b[0m",
      "\u001b[1;31mKeyError\u001b[0m                                  Traceback (most recent call last)",
      "\u001b[1;32m<ipython-input-1-dc5c16e2428c>\u001b[0m in \u001b[0;36m__sub__\u001b[1;34m(self, other)\u001b[0m\n\u001b[0;32m    226\u001b[0m                     \u001b[1;32mfor\u001b[0m \u001b[0mkey\u001b[0m \u001b[1;32min\u001b[0m \u001b[0mkeylist\u001b[0m\u001b[1;33m:\u001b[0m\u001b[1;33m\u001b[0m\u001b[1;33m\u001b[0m\u001b[0m\n\u001b[1;32m--> 227\u001b[1;33m                         \u001b[0mdd\u001b[0m\u001b[1;33m[\u001b[0m\u001b[0mkey\u001b[0m\u001b[1;33m]\u001b[0m \u001b[1;33m=\u001b[0m \u001b[0mrow\u001b[0m\u001b[1;33m[\u001b[0m\u001b[0mkey\u001b[0m\u001b[1;33m]\u001b[0m\u001b[1;33m\u001b[0m\u001b[1;33m\u001b[0m\u001b[0m\n\u001b[0m\u001b[0;32m    228\u001b[0m                     \u001b[0mvaluelist\u001b[0m\u001b[1;33m.\u001b[0m\u001b[0mappend\u001b[0m\u001b[1;33m(\u001b[0m\u001b[0mtuple\u001b[0m\u001b[1;33m(\u001b[0m\u001b[0mdd\u001b[0m\u001b[1;33m.\u001b[0m\u001b[0mvalues\u001b[0m\u001b[1;33m(\u001b[0m\u001b[1;33m)\u001b[0m\u001b[1;33m)\u001b[0m\u001b[1;33m)\u001b[0m\u001b[1;33m\u001b[0m\u001b[1;33m\u001b[0m\u001b[0m\n",
      "\u001b[1;31mKeyError\u001b[0m: 'A'",
      "\nDuring handling of the above exception, another exception occurred:\n",
      "\u001b[1;31mOperationNotSupported\u001b[0m                     Traceback (most recent call last)",
      "\u001b[1;32m<ipython-input-31-13add403ebda>\u001b[0m in \u001b[0;36m<module>\u001b[1;34m\u001b[0m\n\u001b[1;32m----> 1\u001b[1;33m \u001b[0mR\u001b[0m \u001b[1;33m-\u001b[0m \u001b[0mS\u001b[0m\u001b[1;33m\u001b[0m\u001b[1;33m\u001b[0m\u001b[0m\n\u001b[0m",
      "\u001b[1;32m<ipython-input-1-dc5c16e2428c>\u001b[0m in \u001b[0;36m__sub__\u001b[1;34m(self, other)\u001b[0m\n\u001b[0;32m    241\u001b[0m \u001b[1;33m\u001b[0m\u001b[0m\n\u001b[0;32m    242\u001b[0m             \u001b[1;32mexcept\u001b[0m\u001b[1;33m:\u001b[0m\u001b[1;33m\u001b[0m\u001b[1;33m\u001b[0m\u001b[0m\n\u001b[1;32m--> 243\u001b[1;33m                 \u001b[1;32mraise\u001b[0m \u001b[0mOperationNotSupported\u001b[0m\u001b[1;33m(\u001b[0m\u001b[1;34m'Cannot substract different schema'\u001b[0m\u001b[1;33m)\u001b[0m\u001b[1;33m\u001b[0m\u001b[1;33m\u001b[0m\u001b[0m\n\u001b[0m\u001b[0;32m    244\u001b[0m         \u001b[1;32melse\u001b[0m\u001b[1;33m:\u001b[0m\u001b[1;33m\u001b[0m\u001b[1;33m\u001b[0m\u001b[0m\n\u001b[0;32m    245\u001b[0m             \u001b[1;32mraise\u001b[0m \u001b[0mOperationNotSupported\u001b[0m\u001b[1;33m(\u001b[0m\u001b[1;34m'Column counts not match'\u001b[0m\u001b[1;33m)\u001b[0m\u001b[1;33m\u001b[0m\u001b[1;33m\u001b[0m\u001b[0m\n",
      "\u001b[1;31mOperationNotSupported\u001b[0m: Cannot substract different schema"
     ]
    }
   ],
   "source": [
    "R - S"
   ]
  },
  {
   "cell_type": "markdown",
   "metadata": {},
   "source": [
    "Change the column name of relation <b>S</b> into <b>A</b> and <b>B</b> to be matched with relation <b>R</b>."
   ]
  },
  {
   "cell_type": "code",
   "execution_count": 32,
   "metadata": {},
   "outputs": [
    {
     "name": "stdout",
     "output_type": "stream",
     "text": [
      "S\n",
      " A| B|\n",
      "--|--|\n",
      " 5| 6|\n",
      " 3| 4|\n"
     ]
    }
   ],
   "source": [
    "S.rename({'C':'A','D':'B'})\n",
    "print('S')\n",
    "print(S)"
   ]
  },
  {
   "cell_type": "code",
   "execution_count": 33,
   "metadata": {},
   "outputs": [
    {
     "name": "stdout",
     "output_type": "stream",
     "text": [
      " A| B|\n",
      "--|--|\n",
      " 1| 2|\n"
     ]
    },
    {
     "data": {
      "text/plain": [
       "[{'A': 1, 'B': 2}]"
      ]
     },
     "execution_count": 33,
     "metadata": {},
     "output_type": "execute_result"
    }
   ],
   "source": [
    "print(R - S)\n",
    "(R - S).datalist"
   ]
  },
  {
   "cell_type": "markdown",
   "metadata": {},
   "source": [
    "Add new column to relation <b>R</b>. Now relation <b>R</b> have <b>3 columns</b> and relation <b>S</b> have only <b>2 columns</b>."
   ]
  },
  {
   "cell_type": "code",
   "execution_count": 34,
   "metadata": {},
   "outputs": [
    {
     "name": "stdout",
     "output_type": "stream",
     "text": [
      "R\n",
      " A| B| C|\n",
      "--|--|--|\n",
      " 3| 4| 5|\n",
      " 1| 2| 3|\n"
     ]
    }
   ],
   "source": [
    "R = Relation('R',['A','B','C'],{(1,2,3),(3,4,5)})\n",
    "print('R')\n",
    "print(R)"
   ]
  },
  {
   "cell_type": "markdown",
   "metadata": {},
   "source": [
    "Raise <b>Column counts not match</b> error when the column counts of two tables do not match."
   ]
  },
  {
   "cell_type": "code",
   "execution_count": 35,
   "metadata": {},
   "outputs": [
    {
     "ename": "OperationNotSupported",
     "evalue": "Column counts not match",
     "output_type": "error",
     "traceback": [
      "\u001b[1;31m---------------------------------------------------------------------------\u001b[0m",
      "\u001b[1;31mOperationNotSupported\u001b[0m                     Traceback (most recent call last)",
      "\u001b[1;32m<ipython-input-35-13add403ebda>\u001b[0m in \u001b[0;36m<module>\u001b[1;34m\u001b[0m\n\u001b[1;32m----> 1\u001b[1;33m \u001b[0mR\u001b[0m \u001b[1;33m-\u001b[0m \u001b[0mS\u001b[0m\u001b[1;33m\u001b[0m\u001b[1;33m\u001b[0m\u001b[0m\n\u001b[0m",
      "\u001b[1;32m<ipython-input-1-dc5c16e2428c>\u001b[0m in \u001b[0;36m__sub__\u001b[1;34m(self, other)\u001b[0m\n\u001b[0;32m    243\u001b[0m                 \u001b[1;32mraise\u001b[0m \u001b[0mOperationNotSupported\u001b[0m\u001b[1;33m(\u001b[0m\u001b[1;34m'Cannot substract different schema'\u001b[0m\u001b[1;33m)\u001b[0m\u001b[1;33m\u001b[0m\u001b[1;33m\u001b[0m\u001b[0m\n\u001b[0;32m    244\u001b[0m         \u001b[1;32melse\u001b[0m\u001b[1;33m:\u001b[0m\u001b[1;33m\u001b[0m\u001b[1;33m\u001b[0m\u001b[0m\n\u001b[1;32m--> 245\u001b[1;33m             \u001b[1;32mraise\u001b[0m \u001b[0mOperationNotSupported\u001b[0m\u001b[1;33m(\u001b[0m\u001b[1;34m'Column counts not match'\u001b[0m\u001b[1;33m)\u001b[0m\u001b[1;33m\u001b[0m\u001b[1;33m\u001b[0m\u001b[0m\n\u001b[0m\u001b[0;32m    246\u001b[0m \u001b[1;33m\u001b[0m\u001b[0m\n\u001b[0;32m    247\u001b[0m     \u001b[1;32mdef\u001b[0m \u001b[0m__mul__\u001b[0m\u001b[1;33m(\u001b[0m\u001b[0mself\u001b[0m\u001b[1;33m,\u001b[0m \u001b[0mother\u001b[0m\u001b[1;33m)\u001b[0m\u001b[1;33m:\u001b[0m\u001b[1;33m\u001b[0m\u001b[1;33m\u001b[0m\u001b[0m\n",
      "\u001b[1;31mOperationNotSupported\u001b[0m: Column counts not match"
     ]
    }
   ],
   "source": [
    "R - S"
   ]
  },
  {
   "cell_type": "markdown",
   "metadata": {},
   "source": [
    "## Cartesian product"
   ]
  },
  {
   "cell_type": "code",
   "execution_count": 36,
   "metadata": {},
   "outputs": [
    {
     "name": "stdout",
     "output_type": "stream",
     "text": [
      "R\n",
      " A| B|\n",
      "--|--|\n",
      " 1| 2|\n",
      " 3| 4|\n",
      "\n",
      "S\n",
      " C| D|\n",
      "--|--|\n",
      " 5| 6|\n",
      " 7| 8|\n"
     ]
    }
   ],
   "source": [
    "R = Relation('R',['A','B'],{(1,2),(3,4)})\n",
    "S = Relation('S',['C','D'],{(5,6),(7,8)})\n",
    "print('R')\n",
    "print(R)\n",
    "print('\\nS')\n",
    "print(S)"
   ]
  },
  {
   "cell_type": "code",
   "execution_count": 37,
   "metadata": {},
   "outputs": [
    {
     "name": "stdout",
     "output_type": "stream",
     "text": [
      " A| B| C| D|\n",
      "--|--|--|--|\n",
      " 1| 2| 5| 6|\n",
      " 1| 2| 7| 8|\n",
      " 3| 4| 5| 6|\n",
      " 3| 4| 7| 8|\n"
     ]
    },
    {
     "data": {
      "text/plain": [
       "[{'A': 1, 'B': 2, 'C': 5, 'D': 6},\n",
       " {'A': 1, 'B': 2, 'C': 7, 'D': 8},\n",
       " {'A': 3, 'B': 4, 'C': 5, 'D': 6},\n",
       " {'A': 3, 'B': 4, 'C': 7, 'D': 8}]"
      ]
     },
     "execution_count": 37,
     "metadata": {},
     "output_type": "execute_result"
    }
   ],
   "source": [
    "print(R * S)\n",
    "(R * S).datalist"
   ]
  },
  {
   "cell_type": "markdown",
   "metadata": {},
   "source": [
    "Create new relation <b>S</b> with one same column name of relation <b>R</b>. That will prefixed the same column name with the name of the relation it comes from followed by a dot."
   ]
  },
  {
   "cell_type": "code",
   "execution_count": 38,
   "metadata": {},
   "outputs": [
    {
     "name": "stdout",
     "output_type": "stream",
     "text": [
      "S\n",
      " B| C|\n",
      "--|--|\n",
      " 5| 6|\n",
      " 7| 8|\n"
     ]
    }
   ],
   "source": [
    "S = Relation('S',['B','C'],{(5,6),(7,8)})\n",
    "print('S')\n",
    "print(S)"
   ]
  },
  {
   "cell_type": "code",
   "execution_count": 39,
   "metadata": {},
   "outputs": [
    {
     "name": "stdout",
     "output_type": "stream",
     "text": [
      "   A| R.B|   C| S.B|\n",
      "----|----|----|----|\n",
      "   1|   2|   6|   5|\n",
      "   1|   2|   8|   7|\n",
      "   3|   4|   6|   5|\n",
      "   3|   4|   8|   7|\n"
     ]
    },
    {
     "data": {
      "text/plain": [
       "[{'A': 1, 'R.B': 2, 'C': 6, 'S.B': 5},\n",
       " {'A': 1, 'R.B': 2, 'C': 8, 'S.B': 7},\n",
       " {'A': 3, 'R.B': 4, 'C': 6, 'S.B': 5},\n",
       " {'A': 3, 'R.B': 4, 'C': 8, 'S.B': 7}]"
      ]
     },
     "execution_count": 39,
     "metadata": {},
     "output_type": "execute_result"
    }
   ],
   "source": [
    "print(R * S)\n",
    "(R * S).datalist"
   ]
  },
  {
   "cell_type": "code",
   "execution_count": 40,
   "metadata": {},
   "outputs": [
    {
     "name": "stdout",
     "output_type": "stream",
     "text": [
      "S\n",
      " A| B|\n",
      "--|--|\n",
      " 5| 6|\n",
      " 7| 8|\n"
     ]
    }
   ],
   "source": [
    "S = Relation('S',['A','B'],{(5,6),(7,8)})\n",
    "print('S')\n",
    "print(S)"
   ]
  },
  {
   "cell_type": "code",
   "execution_count": 41,
   "metadata": {
    "scrolled": true
   },
   "outputs": [
    {
     "name": "stdout",
     "output_type": "stream",
     "text": [
      " R.A| R.B| S.A| S.B|\n",
      "----|----|----|----|\n",
      "   1|   2|   5|   6|\n",
      "   1|   2|   7|   8|\n",
      "   3|   4|   5|   6|\n",
      "   3|   4|   7|   8|\n"
     ]
    },
    {
     "data": {
      "text/plain": [
       "[{'R.A': 1, 'R.B': 2, 'S.A': 5, 'S.B': 6},\n",
       " {'R.A': 1, 'R.B': 2, 'S.A': 7, 'S.B': 8},\n",
       " {'R.A': 3, 'R.B': 4, 'S.A': 5, 'S.B': 6},\n",
       " {'R.A': 3, 'R.B': 4, 'S.A': 7, 'S.B': 8}]"
      ]
     },
     "execution_count": 41,
     "metadata": {},
     "output_type": "execute_result"
    }
   ],
   "source": [
    "print(R * S)\n",
    "(R * S).datalist"
   ]
  }
 ],
 "metadata": {
  "kernelspec": {
   "display_name": "Python 3",
   "language": "python",
   "name": "python3"
  },
  "language_info": {
   "codemirror_mode": {
    "name": "ipython",
    "version": 3
   },
   "file_extension": ".py",
   "mimetype": "text/x-python",
   "name": "python",
   "nbconvert_exporter": "python",
   "pygments_lexer": "ipython3",
   "version": "3.7.4"
  }
 },
 "nbformat": 4,
 "nbformat_minor": 2
}
